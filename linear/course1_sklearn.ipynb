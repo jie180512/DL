{
 "cells": [
  {
   "cell_type": "code",
   "execution_count": 58,
   "id": "cdcb4d7f-02f9-4b7c-aa42-3a23329fa84f",
   "metadata": {},
   "outputs": [],
   "source": [
    "import pandas as pd\n",
    "import os\n",
    "import csv\n",
    "\n",
    "import math\n",
    "import numpy as np\n",
    "import matplotlib.pyplot as plt\n",
    "\n",
    "from sklearn.linear_model import LinearRegression\n",
    "from sklearn.metrics import mean_squared_error, r2_score\n",
    "from sklearn.model_selection import train_test_split"
   ]
  },
  {
   "cell_type": "markdown",
   "id": "f569f8d4-d969-4587-af69-559ba3dd0e50",
   "metadata": {},
   "source": [
    "读取训练集和测试集的csv文件"
   ]
  },
  {
   "cell_type": "code",
   "execution_count": 59,
   "id": "590ca752-7b47-4d39-a562-346b9f9ddf65",
   "metadata": {},
   "outputs": [
    {
     "data": {
      "text/html": [
       "<div>\n",
       "<style scoped>\n",
       "    .dataframe tbody tr th:only-of-type {\n",
       "        vertical-align: middle;\n",
       "    }\n",
       "\n",
       "    .dataframe tbody tr th {\n",
       "        vertical-align: top;\n",
       "    }\n",
       "\n",
       "    .dataframe thead th {\n",
       "        text-align: right;\n",
       "    }\n",
       "</style>\n",
       "<table border=\"1\" class=\"dataframe\">\n",
       "  <thead>\n",
       "    <tr style=\"text-align: right;\">\n",
       "      <th></th>\n",
       "      <th>Frequency</th>\n",
       "      <th>Angle</th>\n",
       "      <th>Displacement</th>\n",
       "      <th>Chord length</th>\n",
       "      <th>Velocity</th>\n",
       "      <th>Thickness</th>\n",
       "      <th>Sound Pressure</th>\n",
       "    </tr>\n",
       "  </thead>\n",
       "  <tbody>\n",
       "    <tr>\n",
       "      <th>0</th>\n",
       "      <td>2175.611424</td>\n",
       "      <td>15.138865</td>\n",
       "      <td>21.075119</td>\n",
       "      <td>0.088194</td>\n",
       "      <td>66.764401</td>\n",
       "      <td>0.044771</td>\n",
       "      <td>122.365215</td>\n",
       "    </tr>\n",
       "    <tr>\n",
       "      <th>1</th>\n",
       "      <td>2962.923620</td>\n",
       "      <td>13.400893</td>\n",
       "      <td>13.200889</td>\n",
       "      <td>0.048462</td>\n",
       "      <td>78.221903</td>\n",
       "      <td>0.011041</td>\n",
       "      <td>129.296236</td>\n",
       "    </tr>\n",
       "    <tr>\n",
       "      <th>2</th>\n",
       "      <td>4430.810843</td>\n",
       "      <td>2.164599</td>\n",
       "      <td>13.959536</td>\n",
       "      <td>0.226743</td>\n",
       "      <td>57.053201</td>\n",
       "      <td>0.011499</td>\n",
       "      <td>121.827380</td>\n",
       "    </tr>\n",
       "    <tr>\n",
       "      <th>3</th>\n",
       "      <td>4939.695645</td>\n",
       "      <td>13.857682</td>\n",
       "      <td>18.203793</td>\n",
       "      <td>0.021705</td>\n",
       "      <td>23.896377</td>\n",
       "      <td>0.021475</td>\n",
       "      <td>114.998132</td>\n",
       "    </tr>\n",
       "    <tr>\n",
       "      <th>4</th>\n",
       "      <td>2193.979785</td>\n",
       "      <td>9.298757</td>\n",
       "      <td>11.007713</td>\n",
       "      <td>0.052737</td>\n",
       "      <td>38.917034</td>\n",
       "      <td>0.001741</td>\n",
       "      <td>125.639641</td>\n",
       "    </tr>\n",
       "  </tbody>\n",
       "</table>\n",
       "</div>"
      ],
      "text/plain": [
       "     Frequency      Angle  Displacement  Chord length   Velocity  Thickness  \\\n",
       "0  2175.611424  15.138865     21.075119      0.088194  66.764401   0.044771   \n",
       "1  2962.923620  13.400893     13.200889      0.048462  78.221903   0.011041   \n",
       "2  4430.810843   2.164599     13.959536      0.226743  57.053201   0.011499   \n",
       "3  4939.695645  13.857682     18.203793      0.021705  23.896377   0.021475   \n",
       "4  2193.979785   9.298757     11.007713      0.052737  38.917034   0.001741   \n",
       "\n",
       "   Sound Pressure  \n",
       "0      122.365215  \n",
       "1      129.296236  \n",
       "2      121.827380  \n",
       "3      114.998132  \n",
       "4      125.639641  "
      ]
     },
     "execution_count": 59,
     "metadata": {},
     "output_type": "execute_result"
    }
   ],
   "source": [
    "train_data = pd.read_csv('./airfoil_noise_samples.csv')\n",
    "test_data = pd.read_csv('./airfoil_noise_test.csv')\n",
    "train_data.head()"
   ]
  },
  {
   "cell_type": "markdown",
   "id": "9e18c5dc-e370-41b3-b72a-7b62a7d4a70b",
   "metadata": {},
   "source": [
    "定义特征和目标变量"
   ]
  },
  {
   "cell_type": "code",
   "execution_count": 60,
   "id": "e2eab454-1369-4632-ae77-22d77d6ca00a",
   "metadata": {},
   "outputs": [],
   "source": [
    "X_train = train_data.iloc[:, :-1]\n",
    "Y_train = train_data.iloc[:, -1]\n",
    "X_test = test_data.iloc[:, :-1]\n",
    "Y_test = test_data.iloc[:, -1]"
   ]
  },
  {
   "cell_type": "markdown",
   "id": "6e7d6360-5981-4f9f-8669-230d17dfe45c",
   "metadata": {},
   "source": [
    "数据归一化，防止数据过拟合"
   ]
  },
  {
   "cell_type": "code",
   "execution_count": 61,
   "id": "35d3a248-8fbc-41d8-be45-652645cc6a55",
   "metadata": {},
   "outputs": [],
   "source": [
    "# #归一化\n",
    "# X_train = (X_train - X_train.mean()) / X_train.std()\n",
    "# X_test = (X_test - X_test.mean()) / X_test.std()\n",
    "# X_train.head()"
   ]
  },
  {
   "cell_type": "markdown",
   "id": "2ae15328-8c93-4525-8955-08dba213f569",
   "metadata": {},
   "source": [
    "训练模型"
   ]
  },
  {
   "cell_type": "code",
   "execution_count": 62,
   "id": "5a3830cc-843c-445c-ab3b-9c6c233110f8",
   "metadata": {},
   "outputs": [],
   "source": [
    "model = LinearRegression()\n",
    "model.fit(X_train, Y_train)\n",
    "\n",
    "# 测试模型\n",
    "Y_pred_test = model.predict(X_test)"
   ]
  },
  {
   "cell_type": "markdown",
   "id": "c9b6f016-d094-4d76-8339-75ee380ab42a",
   "metadata": {},
   "source": [
    "训练结果点图"
   ]
  },
  {
   "cell_type": "code",
   "execution_count": 63,
   "id": "4e6f251c-d648-4b90-b689-5c86b482c2f6",
   "metadata": {},
   "outputs": [
    {
     "data": {
      "image/png": "[encoded data removed]",
      "text/plain": [
       "<Figure size 640x480 with 1 Axes>"
      ]
     },
     "metadata": {},
     "output_type": "display_data"
    }
   ],
   "source": [
    "plt.scatter(Y_test, Y_pred_test)\n",
    "plt.xlabel(\"True Values\")\n",
    "plt.ylabel(\"Predictions\")\n",
    "plt.title(\"True vs Predicted Values\")\n",
    "plt.show()"
   ]
  },
  {
   "cell_type": "markdown",
   "id": "b51e5026-1a4c-4404-a4a9-6a981a7e7d21",
   "metadata": {},
   "source": [
    "使用R^2分数和MSE来评估模型在测试集上的表现："
   ]
  },
  {
   "cell_type": "code",
   "execution_count": 64,
   "id": "23e726a0-c926-4294-b447-4d1b53621442",
   "metadata": {},
   "outputs": [
    {
     "name": "stdout",
     "output_type": "stream",
     "text": [
      "Mean Squared Error: 1.9843895771191569\n",
      "R^2 Score: 0.9083172459581623\n"
     ]
    }
   ],
   "source": [
    "# 计算MSE和R^2评分\n",
    "mse = mean_squared_error(Y_test, Y_pred_test)\n",
    "r2 = r2_score(Y_test, Y_pred_test)\n",
    "print(\"Mean Squared Error:\", mse)\n",
    "print(\"R^2 Score:\", r2)"
   ]
  }
 ],
 "metadata": {
  "kernelspec": {
   "display_name": "jupyter_venv",
   "language": "python",
   "name": "jupyter_venv"
  },
  "language_info": {
   "codemirror_mode": {
    "name": "ipython",
    "version": 3
   },
   "file_extension": ".py",
   "mimetype": "text/x-python",
   "name": "python",
   "nbconvert_exporter": "python",
   "pygments_lexer": "ipython3",
   "version": "3.10.12"
  }
 },
 "nbformat": 4,
 "nbformat_minor": 5
}
