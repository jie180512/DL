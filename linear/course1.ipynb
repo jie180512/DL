{
 "cells": [
  {
   "cell_type": "code",
   "execution_count": 14,
   "id": "cdcb4d7f-02f9-4b7c-aa42-3a23329fa84f",
   "metadata": {},
   "outputs": [],
   "source": [
    "import pandas as pd\n",
    "import os\n",
    "import csv\n",
    "\n",
    "import math\n",
    "import numpy as np\n",
    "import matplotlib.pyplot as plt"
   ]
  },
  {
   "cell_type": "markdown",
   "id": "e585d7c6-8e35-4873-9670-866c65f48e5b",
   "metadata": {},
   "source": [
    "建立代价函数"
   ]
  },
  {
   "cell_type": "code",
   "execution_count": 15,
   "id": "ca63d5e7-9067-41ce-81d7-5e9e4594063a",
   "metadata": {},
   "outputs": [],
   "source": [
    "def computeCost(X, Y, w, b):\n",
    "    cost = np.sum(np.power((Y-np.dot(X, w.T)-b), 2))/(2*len(X))\n",
    "    return cost"
   ]
  },
  {
   "cell_type": "markdown",
   "id": "bfd5a2de-428e-4ed8-bea2-e3add9371395",
   "metadata": {},
   "source": [
    "梯度下降"
   ]
  },
  {
   "cell_type": "code",
   "execution_count": 16,
   "id": "cc14b592-78ed-4fb9-9559-cab4c9850d59",
   "metadata": {},
   "outputs": [],
   "source": [
    "def gradientDescent(X, Y, theta, iters, learning_rate):\n",
    "    temp = np.matrix(np.zeros(w.shape))\n",
    "    parameters = int(w.shape[1])\n",
    "    cost = np.zeros(iters)\n",
    "\n",
    "    for i in range(iters):\n",
    "        error = X * theta.T - Y\n",
    "        for j in range(parameters):\n",
    "            term = np.multiply(error, X[:, j])\n",
    "            temp[0, j] = temp[0, j] - learning_rate\n",
    "\n",
    "        theta = temp\n",
    "        cost[i] = computeCost(X, Y, theta)\n",
    "        \n",
    "    return theta, cost"
   ]
  },
  {
   "cell_type": "markdown",
   "id": "b05f9d3d-9a45-4c37-a792-416bd54fc65d",
   "metadata": {},
   "source": [
    "预测函数predict"
   ]
  },
  {
   "cell_type": "code",
   "execution_count": 17,
   "id": "d73029f9-ff09-46c7-90d5-12395835c9c8",
   "metadata": {},
   "outputs": [],
   "source": [
    "def predict(w, b, X):\n",
    "    m = X.shape[1]\n",
    "    Y_prediction = np.zeros((1,m))\n",
    "    w = w.reshape(X.shape[0], 1)\n",
    "\n",
    "    A = sigmoid(np.dot(w.T, X) + b)\n",
    "    for i in range(A.shape[1]):\n",
    "        Y_prediction[0, i] = np.dot(X,w) + b\n",
    "    return Y_prediction"
   ]
  },
  {
   "cell_type": "markdown",
   "id": "f569f8d4-d969-4587-af69-559ba3dd0e50",
   "metadata": {},
   "source": [
    "读取训练集和测试集的csv文件"
   ]
  },
  {
   "cell_type": "code",
   "execution_count": 18,
   "id": "590ca752-7b47-4d39-a562-346b9f9ddf65",
   "metadata": {},
   "outputs": [
    {
     "data": {
      "text/html": [
       "<div>\n",
       "<style scoped>\n",
       "    .dataframe tbody tr th:only-of-type {\n",
       "        vertical-align: middle;\n",
       "    }\n",
       "\n",
       "    .dataframe tbody tr th {\n",
       "        vertical-align: top;\n",
       "    }\n",
       "\n",
       "    .dataframe thead th {\n",
       "        text-align: right;\n",
       "    }\n",
       "</style>\n",
       "<table border=\"1\" class=\"dataframe\">\n",
       "  <thead>\n",
       "    <tr style=\"text-align: right;\">\n",
       "      <th></th>\n",
       "      <th>Frequency</th>\n",
       "      <th>Angle</th>\n",
       "      <th>Displacement</th>\n",
       "      <th>Chord length</th>\n",
       "      <th>Velocity</th>\n",
       "      <th>Thickness</th>\n",
       "      <th>Sound Pressure</th>\n",
       "    </tr>\n",
       "  </thead>\n",
       "  <tbody>\n",
       "    <tr>\n",
       "      <th>0</th>\n",
       "      <td>2175.611424</td>\n",
       "      <td>15.138865</td>\n",
       "      <td>21.075119</td>\n",
       "      <td>0.088194</td>\n",
       "      <td>66.764401</td>\n",
       "      <td>0.044771</td>\n",
       "      <td>122.365215</td>\n",
       "    </tr>\n",
       "    <tr>\n",
       "      <th>1</th>\n",
       "      <td>2962.923620</td>\n",
       "      <td>13.400893</td>\n",
       "      <td>13.200889</td>\n",
       "      <td>0.048462</td>\n",
       "      <td>78.221903</td>\n",
       "      <td>0.011041</td>\n",
       "      <td>129.296236</td>\n",
       "    </tr>\n",
       "    <tr>\n",
       "      <th>2</th>\n",
       "      <td>4430.810843</td>\n",
       "      <td>2.164599</td>\n",
       "      <td>13.959536</td>\n",
       "      <td>0.226743</td>\n",
       "      <td>57.053201</td>\n",
       "      <td>0.011499</td>\n",
       "      <td>121.827380</td>\n",
       "    </tr>\n",
       "    <tr>\n",
       "      <th>3</th>\n",
       "      <td>4939.695645</td>\n",
       "      <td>13.857682</td>\n",
       "      <td>18.203793</td>\n",
       "      <td>0.021705</td>\n",
       "      <td>23.896377</td>\n",
       "      <td>0.021475</td>\n",
       "      <td>114.998132</td>\n",
       "    </tr>\n",
       "    <tr>\n",
       "      <th>4</th>\n",
       "      <td>2193.979785</td>\n",
       "      <td>9.298757</td>\n",
       "      <td>11.007713</td>\n",
       "      <td>0.052737</td>\n",
       "      <td>38.917034</td>\n",
       "      <td>0.001741</td>\n",
       "      <td>125.639641</td>\n",
       "    </tr>\n",
       "  </tbody>\n",
       "</table>\n",
       "</div>"
      ],
      "text/plain": [
       "     Frequency      Angle  Displacement  Chord length   Velocity  Thickness  \\\n",
       "0  2175.611424  15.138865     21.075119      0.088194  66.764401   0.044771   \n",
       "1  2962.923620  13.400893     13.200889      0.048462  78.221903   0.011041   \n",
       "2  4430.810843   2.164599     13.959536      0.226743  57.053201   0.011499   \n",
       "3  4939.695645  13.857682     18.203793      0.021705  23.896377   0.021475   \n",
       "4  2193.979785   9.298757     11.007713      0.052737  38.917034   0.001741   \n",
       "\n",
       "   Sound Pressure  \n",
       "0      122.365215  \n",
       "1      129.296236  \n",
       "2      121.827380  \n",
       "3      114.998132  \n",
       "4      125.639641  "
      ]
     },
     "execution_count": 18,
     "metadata": {},
     "output_type": "execute_result"
    }
   ],
   "source": [
    "train_data = pd.read_csv('./airfoil_noise_samples.csv')\n",
    "test_data = pd.read_csv('./airfoil_noise_test.csv')\n",
    "train_data.head()"
   ]
  },
  {
   "cell_type": "markdown",
   "id": "9e18c5dc-e370-41b3-b72a-7b62a7d4a70b",
   "metadata": {},
   "source": [
    "定义特征和目标变量"
   ]
  },
  {
   "cell_type": "code",
   "execution_count": 19,
   "id": "e2eab454-1369-4632-ae77-22d77d6ca00a",
   "metadata": {},
   "outputs": [],
   "source": [
    "X_train = train_data.iloc[:, :-1]\n",
    "Y_train = train_data.iloc[:, -1]\n",
    "X_test = test_data.iloc[:, :-1]\n",
    "Y_test = test_data.iloc[:, -1]"
   ]
  },
  {
   "cell_type": "markdown",
   "id": "6e7d6360-5981-4f9f-8669-230d17dfe45c",
   "metadata": {},
   "source": [
    "数据归一化，防止数据过拟合"
   ]
  },
  {
   "cell_type": "code",
   "execution_count": 20,
   "id": "35d3a248-8fbc-41d8-be45-652645cc6a55",
   "metadata": {},
   "outputs": [
    {
     "data": {
      "text/html": [
       "<div>\n",
       "<style scoped>\n",
       "    .dataframe tbody tr th:only-of-type {\n",
       "        vertical-align: middle;\n",
       "    }\n",
       "\n",
       "    .dataframe tbody tr th {\n",
       "        vertical-align: top;\n",
       "    }\n",
       "\n",
       "    .dataframe thead th {\n",
       "        text-align: right;\n",
       "    }\n",
       "</style>\n",
       "<table border=\"1\" class=\"dataframe\">\n",
       "  <thead>\n",
       "    <tr style=\"text-align: right;\">\n",
       "      <th></th>\n",
       "      <th>Frequency</th>\n",
       "      <th>Angle</th>\n",
       "      <th>Displacement</th>\n",
       "      <th>Chord length</th>\n",
       "      <th>Velocity</th>\n",
       "      <th>Thickness</th>\n",
       "    </tr>\n",
       "  </thead>\n",
       "  <tbody>\n",
       "    <tr>\n",
       "      <th>0</th>\n",
       "      <td>-0.275324</td>\n",
       "      <td>1.240614</td>\n",
       "      <td>1.602819</td>\n",
       "      <td>-0.558959</td>\n",
       "      <td>0.934190</td>\n",
       "      <td>2.181587</td>\n",
       "    </tr>\n",
       "    <tr>\n",
       "      <th>1</th>\n",
       "      <td>0.007620</td>\n",
       "      <td>0.928480</td>\n",
       "      <td>-0.074895</td>\n",
       "      <td>-0.989410</td>\n",
       "      <td>1.631190</td>\n",
       "      <td>-0.232215</td>\n",
       "    </tr>\n",
       "    <tr>\n",
       "      <th>2</th>\n",
       "      <td>0.535150</td>\n",
       "      <td>-1.089521</td>\n",
       "      <td>0.086745</td>\n",
       "      <td>0.942044</td>\n",
       "      <td>0.343425</td>\n",
       "      <td>-0.199430</td>\n",
       "    </tr>\n",
       "    <tr>\n",
       "      <th>3</th>\n",
       "      <td>0.718034</td>\n",
       "      <td>1.010518</td>\n",
       "      <td>0.991043</td>\n",
       "      <td>-1.279290</td>\n",
       "      <td>-1.673619</td>\n",
       "      <td>0.514487</td>\n",
       "    </tr>\n",
       "    <tr>\n",
       "      <th>4</th>\n",
       "      <td>-0.268723</td>\n",
       "      <td>0.191750</td>\n",
       "      <td>-0.542182</td>\n",
       "      <td>-0.943098</td>\n",
       "      <td>-0.759861</td>\n",
       "      <td>-0.897771</td>\n",
       "    </tr>\n",
       "  </tbody>\n",
       "</table>\n",
       "</div>"
      ],
      "text/plain": [
       "   Frequency     Angle  Displacement  Chord length  Velocity  Thickness\n",
       "0  -0.275324  1.240614      1.602819     -0.558959  0.934190   2.181587\n",
       "1   0.007620  0.928480     -0.074895     -0.989410  1.631190  -0.232215\n",
       "2   0.535150 -1.089521      0.086745      0.942044  0.343425  -0.199430\n",
       "3   0.718034  1.010518      0.991043     -1.279290 -1.673619   0.514487\n",
       "4  -0.268723  0.191750     -0.542182     -0.943098 -0.759861  -0.897771"
      ]
     },
     "execution_count": 20,
     "metadata": {},
     "output_type": "execute_result"
    }
   ],
   "source": [
    "#归一化\n",
    "X_train = (X_train - X_train.mean()) / X_train.std()\n",
    "X_test = (X_test - X_test.mean()) / X_test.std()\n",
    "X_train.head()"
   ]
  },
  {
   "cell_type": "code",
   "execution_count": 21,
   "id": "8a950732-1640-46fe-83a8-30cfffbc2ae0",
   "metadata": {},
   "outputs": [],
   "source": [
    "#初始化权重和偏执\n",
    "w = np.zeros(X_train.shape[1])\n",
    "b = 0\n",
    "\n",
    "#设置学习率和迭代次数\n",
    "learning_rate = 0.001\n",
    "epochs = 4000"
   ]
  },
  {
   "cell_type": "code",
   "execution_count": 22,
   "id": "5a3830cc-843c-445c-ab3b-9c6c233110f8",
   "metadata": {},
   "outputs": [],
   "source": [
    "#训练模型\n",
    "m = len(Y_train)\n",
    "costs = []\n",
    "for epoch in range(epochs):\n",
    "    #计算预测值\n",
    "    Y_pred = np.dot(X_train, w) + b\n",
    "\n",
    "    cost = (1/2*m)*np.sum(np.power((Y_train-np.dot(X_train, w)-b),2))\n",
    "    costs.append(cost)\n",
    "    \n",
    "    # 计算梯度\n",
    "    dw = -(1/m) * np.dot(X_train.T, (Y_train - Y_pred))\n",
    "    db = -(1/m) * np.sum(Y_train - Y_pred)\n",
    "    \n",
    "    # 更新权重和偏置\n",
    "    w = w - learning_rate * dw\n",
    "    b = b - learning_rate * db\n",
    "\n",
    "# 测试模型\n",
    "Y_pred_test = np.dot(X_test, w) + b"
   ]
  },
  {
   "cell_type": "markdown",
   "id": "3f369f20-b0c8-467d-b705-f66dafe68ba2",
   "metadata": {},
   "source": [
    "画出cost曲线"
   ]
  },
  {
   "cell_type": "code",
   "execution_count": 23,
   "id": "84e8f34c-ae3a-4627-8a52-2110c24984ca",
   "metadata": {},
   "outputs": [
    {
     "data": {
      "image/png": "[encoded data removed]",
      "text/plain": [
       "<Figure size 1200x800 with 1 Axes>"
      ]
     },
     "metadata": {},
     "output_type": "display_data"
    }
   ],
   "source": [
    "fig, ax = plt.subplots(figsize=(12, 8))\n",
    "ax.plot(np.arange(epochs), costs, 'r')\n",
    "ax.set_xlabel('Iterations')\n",
    "ax.set_ylabel('Cost')\n",
    "ax.set_title('Error vs Training Epoch')\n",
    "plt.show()"
   ]
  },
  {
   "cell_type": "markdown",
   "id": "c9b6f016-d094-4d76-8339-75ee380ab42a",
   "metadata": {},
   "source": [
    "训练结果点图"
   ]
  },
  {
   "cell_type": "code",
   "execution_count": 24,
   "id": "4e6f251c-d648-4b90-b689-5c86b482c2f6",
   "metadata": {},
   "outputs": [
    {
     "data": {
      "image/png": "[encoded data removed]",
      "text/plain": [
       "<Figure size 640x480 with 1 Axes>"
      ]
     },
     "metadata": {},
     "output_type": "display_data"
    }
   ],
   "source": [
    "plt.scatter(Y_test, Y_pred_test)\n",
    "plt.xlabel(\"True Values\")\n",
    "plt.ylabel(\"Predictions\")\n",
    "plt.title(\"True vs Predicted Values\")\n",
    "plt.show()"
   ]
  },
  {
   "cell_type": "markdown",
   "id": "b51e5026-1a4c-4404-a4a9-6a981a7e7d21",
   "metadata": {},
   "source": [
    "使用R^2分数和MSE来评估模型在测试集上的表现："
   ]
  },
  {
   "cell_type": "code",
   "execution_count": 25,
   "id": "23e726a0-c926-4294-b447-4d1b53621442",
   "metadata": {},
   "outputs": [
    {
     "name": "stdout",
     "output_type": "stream",
     "text": [
      "MSE on test set: 7.605071642425265\n",
      "R^2 Score on test set: 0.6486305305658426\n"
     ]
    }
   ],
   "source": [
    "\n",
    "mse = np.mean((Y_test - Y_pred_test) ** 2)\n",
    "r2_score = 1 - np.sum((Y_test - Y_pred_test) ** 2) / np.sum((Y_test - np.mean(Y_test)) ** 2)\n",
    "\n",
    "# 输出结果\n",
    "print(f\"MSE on test set: {mse}\")\n",
    "print(f\"R^2 Score on test set: {r2_score}\")"
   ]
  },
  {
   "cell_type": "code",
   "execution_count": 26,
   "id": "80f1cc4a-5535-4248-a13d-61719f47e45e",
   "metadata": {},
   "outputs": [
    {
     "name": "stdout",
     "output_type": "stream",
     "text": [
      "Mean Squared Error: 7.605071642425265\n",
      "R^2 Score: 0.6486305305658426\n"
     ]
    }
   ],
   "source": [
    "from sklearn.metrics import mean_squared_error, r2_score\n",
    "# 计算MSE和R^2评分\n",
    "mse = mean_squared_error(Y_test, Y_pred_test)\n",
    "r2 = r2_score(Y_test, Y_pred_test)\n",
    "print(\"Mean Squared Error:\", mse)\n",
    "print(\"R^2 Score:\", r2)"
   ]
  }
 ],
 "metadata": {
  "kernelspec": {
   "display_name": "jupyter_venv",
   "language": "python",
   "name": "jupyter_venv"
  },
  "language_info": {
   "codemirror_mode": {
    "name": "ipython",
    "version": 3
   },
   "file_extension": ".py",
   "mimetype": "text/x-python",
   "name": "python",
   "nbconvert_exporter": "python",
   "pygments_lexer": "ipython3",
   "version": "3.10.12"
  }
 },
 "nbformat": 4,
 "nbformat_minor": 5
}
