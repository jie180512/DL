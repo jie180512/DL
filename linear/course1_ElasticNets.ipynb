{
 "cells": [
  {
   "cell_type": "code",
   "execution_count": 1,
   "id": "cdcb4d7f-02f9-4b7c-aa42-3a23329fa84f",
   "metadata": {},
   "outputs": [],
   "source": [
    "import pandas as pd\n",
    "import os\n",
    "import csv\n",
    "\n",
    "import math\n",
    "import numpy as np\n",
    "import matplotlib.pyplot as plt"
   ]
  },
  {
   "cell_type": "markdown",
   "id": "f569f8d4-d969-4587-af69-559ba3dd0e50",
   "metadata": {},
   "source": [
    "读取训练集和测试集的csv文件"
   ]
  },
  {
   "cell_type": "code",
   "execution_count": 2,
   "id": "590ca752-7b47-4d39-a562-346b9f9ddf65",
   "metadata": {},
   "outputs": [
    {
     "data": {
      "text/html": [
       "<div>\n",
       "<style scoped>\n",
       "    .dataframe tbody tr th:only-of-type {\n",
       "        vertical-align: middle;\n",
       "    }\n",
       "\n",
       "    .dataframe tbody tr th {\n",
       "        vertical-align: top;\n",
       "    }\n",
       "\n",
       "    .dataframe thead th {\n",
       "        text-align: right;\n",
       "    }\n",
       "</style>\n",
       "<table border=\"1\" class=\"dataframe\">\n",
       "  <thead>\n",
       "    <tr style=\"text-align: right;\">\n",
       "      <th></th>\n",
       "      <th>Frequency</th>\n",
       "      <th>Angle</th>\n",
       "      <th>Displacement</th>\n",
       "      <th>Chord length</th>\n",
       "      <th>Velocity</th>\n",
       "      <th>Thickness</th>\n",
       "      <th>Sound Pressure</th>\n",
       "    </tr>\n",
       "  </thead>\n",
       "  <tbody>\n",
       "    <tr>\n",
       "      <th>0</th>\n",
       "      <td>2175.611424</td>\n",
       "      <td>15.138865</td>\n",
       "      <td>21.075119</td>\n",
       "      <td>0.088194</td>\n",
       "      <td>66.764401</td>\n",
       "      <td>0.044771</td>\n",
       "      <td>122.365215</td>\n",
       "    </tr>\n",
       "    <tr>\n",
       "      <th>1</th>\n",
       "      <td>2962.923620</td>\n",
       "      <td>13.400893</td>\n",
       "      <td>13.200889</td>\n",
       "      <td>0.048462</td>\n",
       "      <td>78.221903</td>\n",
       "      <td>0.011041</td>\n",
       "      <td>129.296236</td>\n",
       "    </tr>\n",
       "    <tr>\n",
       "      <th>2</th>\n",
       "      <td>4430.810843</td>\n",
       "      <td>2.164599</td>\n",
       "      <td>13.959536</td>\n",
       "      <td>0.226743</td>\n",
       "      <td>57.053201</td>\n",
       "      <td>0.011499</td>\n",
       "      <td>121.827380</td>\n",
       "    </tr>\n",
       "    <tr>\n",
       "      <th>3</th>\n",
       "      <td>4939.695645</td>\n",
       "      <td>13.857682</td>\n",
       "      <td>18.203793</td>\n",
       "      <td>0.021705</td>\n",
       "      <td>23.896377</td>\n",
       "      <td>0.021475</td>\n",
       "      <td>114.998132</td>\n",
       "    </tr>\n",
       "    <tr>\n",
       "      <th>4</th>\n",
       "      <td>2193.979785</td>\n",
       "      <td>9.298757</td>\n",
       "      <td>11.007713</td>\n",
       "      <td>0.052737</td>\n",
       "      <td>38.917034</td>\n",
       "      <td>0.001741</td>\n",
       "      <td>125.639641</td>\n",
       "    </tr>\n",
       "  </tbody>\n",
       "</table>\n",
       "</div>"
      ],
      "text/plain": [
       "     Frequency      Angle  Displacement  Chord length   Velocity  Thickness  \\\n",
       "0  2175.611424  15.138865     21.075119      0.088194  66.764401   0.044771   \n",
       "1  2962.923620  13.400893     13.200889      0.048462  78.221903   0.011041   \n",
       "2  4430.810843   2.164599     13.959536      0.226743  57.053201   0.011499   \n",
       "3  4939.695645  13.857682     18.203793      0.021705  23.896377   0.021475   \n",
       "4  2193.979785   9.298757     11.007713      0.052737  38.917034   0.001741   \n",
       "\n",
       "   Sound Pressure  \n",
       "0      122.365215  \n",
       "1      129.296236  \n",
       "2      121.827380  \n",
       "3      114.998132  \n",
       "4      125.639641  "
      ]
     },
     "execution_count": 2,
     "metadata": {},
     "output_type": "execute_result"
    }
   ],
   "source": [
    "train_data = pd.read_csv('./airfoil_noise_samples.csv')\n",
    "test_data = pd.read_csv('./airfoil_noise_test.csv')\n",
    "train_data.head()"
   ]
  },
  {
   "cell_type": "markdown",
   "id": "9e18c5dc-e370-41b3-b72a-7b62a7d4a70b",
   "metadata": {},
   "source": [
    "定义特征和目标变量"
   ]
  },
  {
   "cell_type": "code",
   "execution_count": 3,
   "id": "e2eab454-1369-4632-ae77-22d77d6ca00a",
   "metadata": {},
   "outputs": [],
   "source": [
    "X_train = train_data.iloc[:, :-1]\n",
    "Y_train = train_data.iloc[:, -1]\n",
    "X_test = test_data.iloc[:, :-1]\n",
    "Y_test = test_data.iloc[:, -1]"
   ]
  },
  {
   "cell_type": "markdown",
   "id": "6e7d6360-5981-4f9f-8669-230d17dfe45c",
   "metadata": {},
   "source": [
    "数据归一化，防止数据过拟合"
   ]
  },
  {
   "cell_type": "code",
   "execution_count": 4,
   "id": "35d3a248-8fbc-41d8-be45-652645cc6a55",
   "metadata": {},
   "outputs": [
    {
     "data": {
      "text/html": [
       "<div>\n",
       "<style scoped>\n",
       "    .dataframe tbody tr th:only-of-type {\n",
       "        vertical-align: middle;\n",
       "    }\n",
       "\n",
       "    .dataframe tbody tr th {\n",
       "        vertical-align: top;\n",
       "    }\n",
       "\n",
       "    .dataframe thead th {\n",
       "        text-align: right;\n",
       "    }\n",
       "</style>\n",
       "<table border=\"1\" class=\"dataframe\">\n",
       "  <thead>\n",
       "    <tr style=\"text-align: right;\">\n",
       "      <th></th>\n",
       "      <th>Frequency</th>\n",
       "      <th>Angle</th>\n",
       "      <th>Displacement</th>\n",
       "      <th>Chord length</th>\n",
       "      <th>Velocity</th>\n",
       "      <th>Thickness</th>\n",
       "    </tr>\n",
       "  </thead>\n",
       "  <tbody>\n",
       "    <tr>\n",
       "      <th>0</th>\n",
       "      <td>-0.275324</td>\n",
       "      <td>1.240614</td>\n",
       "      <td>1.602819</td>\n",
       "      <td>-0.558959</td>\n",
       "      <td>0.934190</td>\n",
       "      <td>2.181587</td>\n",
       "    </tr>\n",
       "    <tr>\n",
       "      <th>1</th>\n",
       "      <td>0.007620</td>\n",
       "      <td>0.928480</td>\n",
       "      <td>-0.074895</td>\n",
       "      <td>-0.989410</td>\n",
       "      <td>1.631190</td>\n",
       "      <td>-0.232215</td>\n",
       "    </tr>\n",
       "    <tr>\n",
       "      <th>2</th>\n",
       "      <td>0.535150</td>\n",
       "      <td>-1.089521</td>\n",
       "      <td>0.086745</td>\n",
       "      <td>0.942044</td>\n",
       "      <td>0.343425</td>\n",
       "      <td>-0.199430</td>\n",
       "    </tr>\n",
       "    <tr>\n",
       "      <th>3</th>\n",
       "      <td>0.718034</td>\n",
       "      <td>1.010518</td>\n",
       "      <td>0.991043</td>\n",
       "      <td>-1.279290</td>\n",
       "      <td>-1.673619</td>\n",
       "      <td>0.514487</td>\n",
       "    </tr>\n",
       "    <tr>\n",
       "      <th>4</th>\n",
       "      <td>-0.268723</td>\n",
       "      <td>0.191750</td>\n",
       "      <td>-0.542182</td>\n",
       "      <td>-0.943098</td>\n",
       "      <td>-0.759861</td>\n",
       "      <td>-0.897771</td>\n",
       "    </tr>\n",
       "  </tbody>\n",
       "</table>\n",
       "</div>"
      ],
      "text/plain": [
       "   Frequency     Angle  Displacement  Chord length  Velocity  Thickness\n",
       "0  -0.275324  1.240614      1.602819     -0.558959  0.934190   2.181587\n",
       "1   0.007620  0.928480     -0.074895     -0.989410  1.631190  -0.232215\n",
       "2   0.535150 -1.089521      0.086745      0.942044  0.343425  -0.199430\n",
       "3   0.718034  1.010518      0.991043     -1.279290 -1.673619   0.514487\n",
       "4  -0.268723  0.191750     -0.542182     -0.943098 -0.759861  -0.897771"
      ]
     },
     "execution_count": 4,
     "metadata": {},
     "output_type": "execute_result"
    }
   ],
   "source": [
    "#归一化\n",
    "X_train = (X_train - X_train.mean()) / X_train.std()\n",
    "X_test = (X_test - X_test.mean()) / X_test.std()\n",
    "X_train.head()"
   ]
  },
  {
   "cell_type": "markdown",
   "id": "fbfaab87-4ad0-45e3-9923-410c34463243",
   "metadata": {},
   "source": [
    "使用Elastic Nets训练"
   ]
  },
  {
   "cell_type": "code",
   "execution_count": 5,
   "id": "830e5760-9021-4e66-b354-ee6b8df6c7dc",
   "metadata": {},
   "outputs": [
    {
     "name": "stdout",
     "output_type": "stream",
     "text": [
      "最佳的alpha是: 0.9\n",
      "最佳的lambda是: 10\n"
     ]
    }
   ],
   "source": [
    "#设置学习率和迭代次数\n",
    "learning_rate = 0.001\n",
    "epochs = 4000\n",
    "alphas = [0.1, 0.5, 0.9]\n",
    "lmbdas = [0.001, 0.01, 0.1, 1, 10]\n",
    "\n",
    "best_alpha = None\n",
    "best_lmbda = None\n",
    "best_mse = float('inf')\n",
    "\n",
    "#Lasso惩罚加ridge惩罚\n",
    "def compute_cost(X, y, w, b, alpha, lmbda):\n",
    "    m = len(y)\n",
    "    predictions = X.dot(w) + b\n",
    "    cost = (1/2*m) * np.sum(np.square(predictions-y))\n",
    "    lasso_penalty = lmbda * np.sum(np.abs(w))\n",
    "    ridge_penalty = lmbda * np.sum(np.square(w))\n",
    "    return cost + alpha * lasso_penalty + (1 - alpha) * ridge_penalty\n",
    "\n",
    "# Gradient descent\n",
    "def gradient_descent(X, y, w, b, alpha, lmbda, learning_rate, epochs):\n",
    "    m = len(y)\n",
    "    for _ in range(epochs):\n",
    "        predictions = X.dot(w) + b\n",
    "        dw = (1/m) * X.T.dot(predictions - y) + lmbda * (alpha * np.sign(w) + (1 - alpha) * w)\n",
    "        db = (1/m) * np.sum(predictions - y)\n",
    "        w -= learning_rate * dw\n",
    "        b -= learning_rate * db\n",
    "    return w, b\n",
    "\n",
    "# 5折交叉验证调整alpha\n",
    "def cross_validate(X, y, alpha, lmbda):\n",
    "    fold_size = len(y) // 5\n",
    "    mse_list = []\n",
    "    \n",
    "    for i in range(5):\n",
    "        start = i * fold_size\n",
    "        end = start + fold_size\n",
    "\n",
    "        X_val = X[start:end]\n",
    "        y_val = y[start:end]\n",
    "        X_train_fold = np.concatenate((X[:start], X[end:]))\n",
    "        y_train_fold = np.concatenate((y[:start], y[end:]))\n",
    "\n",
    "        w = np.zeros(X_train_fold.shape[1])\n",
    "        b = 0\n",
    "        w, b = gradient_descent(X_train_fold, y_train_fold, w, b, alpha, lmbda, learning_rate, epochs)\n",
    "        predictions = X_val.dot(w) + b\n",
    "        mse = np.mean((predictions - y_val)**2)\n",
    "        mse_list.append(mse)\n",
    "        \n",
    "    return np.mean(mse_list)\n",
    "\n",
    "\n",
    "for alpha in alphas:\n",
    "    for lmbda in lmbdas:\n",
    "        mse = cross_validate(X_train, Y_train, alpha, lmbda)\n",
    "        if mse < best_mse:\n",
    "            best_mese = mse\n",
    "            best_alpha = alpha\n",
    "            best_lmbda = lmbda\n",
    "\n",
    "print(f\"最佳的alpha是: {best_alpha}\")\n",
    "print(f\"最佳的lambda是: {best_lmbda}\")"
   ]
  },
  {
   "cell_type": "code",
   "execution_count": 6,
   "id": "89a7808c-2d4c-48e3-804d-aeb03274279d",
   "metadata": {},
   "outputs": [],
   "source": [
    "#初始化w，b\n",
    "w = np.zeros(X_train.shape[1])\n",
    "b = 0\n",
    "w, b = gradient_descent(X_train, Y_train, w, b, best_alpha, best_lmbda, learning_rate, epochs)"
   ]
  },
  {
   "cell_type": "markdown",
   "id": "b51e5026-1a4c-4404-a4a9-6a981a7e7d21",
   "metadata": {},
   "source": [
    "使用R^2分数和MSE来评估模型在测试集上的表现："
   ]
  },
  {
   "cell_type": "code",
   "execution_count": 7,
   "id": "23e726a0-c926-4294-b447-4d1b53621442",
   "metadata": {},
   "outputs": [
    {
     "name": "stdout",
     "output_type": "stream",
     "text": [
      "MSE on test set: 26.720710800551238\n",
      "R^2 Score on test set: -0.23455010266006315\n"
     ]
    }
   ],
   "source": [
    "#计算mse和r2评分\n",
    "predictions = X_test.dot(w) + b\n",
    "mse_test = np.mean((predictions - Y_test)**2)\n",
    "r2 = 1 - mse_test / np.var(Y_test)\n",
    "\n",
    "# 输出结果\n",
    "print(f\"MSE on test set: {mse_test}\")\n",
    "print(f\"R^2 Score on test set: {r2}\")"
   ]
  }
 ],
 "metadata": {
  "kernelspec": {
   "display_name": "jupyter_venv",
   "language": "python",
   "name": "jupyter_venv"
  },
  "language_info": {
   "codemirror_mode": {
    "name": "ipython",
    "version": 3
   },
   "file_extension": ".py",
   "mimetype": "text/x-python",
   "name": "python",
   "nbconvert_exporter": "python",
   "pygments_lexer": "ipython3",
   "version": "3.10.12"
  }
 },
 "nbformat": 4,
 "nbformat_minor": 5
}
