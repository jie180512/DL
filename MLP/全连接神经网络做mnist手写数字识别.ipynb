{
 "cells": [
  {
   "cell_type": "markdown",
   "metadata": {},
   "source": [
    "## 一、定义前向、后向传播\n",
    "网络结构如下,包括3个fc层：\n",
    "input(28\\*28)=> fc (256) => relu => fc(256) => relu => fc(10)"
   ]
  },
  {
   "cell_type": "code",
   "execution_count": 10,
   "metadata": {},
   "outputs": [],
   "source": [
    "import numpy as np\n",
    "# 定义权重、神经元、梯度\n",
    "weights={}\n",
    "weights_scale=1e-3\n",
    "weights[\"W1\"]=weights_scale*np.random.randn(28*28,256)\n",
    "weights[\"b1\"]=np.zeros(256)\n",
    "weights[\"W2\"]=weights_scale*np.random.randn(256,256)\n",
    "weights[\"b2\"]=np.zeros(256)\n",
    "weights[\"W3\"]=weights_scale*np.random.randn(256,10)\n",
    "weights[\"b3\"]=np.zeros(10)\n",
    "\n",
    "nuerons={}\n",
    "gradients={}\n"
   ]
  },
  {
   "cell_type": "code",
   "execution_count": 11,
   "metadata": {},
   "outputs": [],
   "source": [
    "from nn.layers import fc_forward\n",
    "from nn.activations import relu_forward\n",
    "\n",
    "# 定义前向过程\n",
    "def forward(X):\n",
    "    nuerons[\"z2\"]=fc_forward(X,weights[\"W1\"],weights[\"b1\"])\n",
    "    nuerons[\"z2_relu\"]=relu_forward(nuerons[\"z2\"])\n",
    "    nuerons[\"z3\"]=fc_forward(nuerons[\"z2_relu\"],weights[\"W2\"],weights[\"b2\"])\n",
    "    nuerons[\"z3_relu\"]=relu_forward(nuerons[\"z3\"])\n",
    "    nuerons[\"y\"]=fc_forward(nuerons[\"z3_relu\"],weights[\"W3\"],weights[\"b3\"])\n",
    "    return nuerons[\"y\"]"
   ]
  },
  {
   "cell_type": "code",
   "execution_count": 12,
   "metadata": {},
   "outputs": [],
   "source": [
    "from nn.losses import cross_entropy_loss\n",
    "from nn.layers import fc_backward\n",
    "from nn.activations import relu_backward\n",
    "\n",
    "# 定义后向过程\n",
    "def backward(X,y_true):\n",
    "    loss,dy=cross_entropy_loss(nuerons[\"y\"],y_true)\n",
    "    gradients[\"W3\"],gradients[\"b3\"],gradients[\"z3_relu\"]=fc_backward(dy,weights[\"W3\"],nuerons[\"z3_relu\"])\n",
    "    gradients[\"z3\"]=relu_backward(gradients[\"z3_relu\"],nuerons[\"z3\"])\n",
    "    gradients[\"W2\"],gradients[\"b2\"],gradients[\"z2_relu\"]=fc_backward(gradients[\"z3\"],\n",
    "                                                                     weights[\"W2\"],nuerons[\"z2_relu\"])\n",
    "    gradients[\"z2\"]=relu_backward(gradients[\"z2_relu\"],nuerons[\"z2\"])\n",
    "    gradients[\"W1\"],gradients[\"b1\"],_=fc_backward(gradients[\"z2\"],\n",
    "                                                    weights[\"W1\"],X)\n",
    "    return loss"
   ]
  },
  {
   "cell_type": "code",
   "execution_count": 13,
   "metadata": {},
   "outputs": [],
   "source": [
    "# 获取精度\n",
    "def get_accuracy(X,y_true):\n",
    "    y_predict=forward(X)\n",
    "    return np.mean(np.equal(np.argmax(y_predict,axis=-1),\n",
    "                            np.argmax(y_true,axis=-1)))"
   ]
  },
  {
   "cell_type": "markdown",
   "metadata": {},
   "source": [
    "## 二、加载数据\n",
    "\n",
    "mnist.pkl.gz数据源： http://deeplearning.net/data/mnist/mnist.pkl.gz   "
   ]
  },
  {
   "cell_type": "code",
   "execution_count": 14,
   "metadata": {},
   "outputs": [],
   "source": [
    "from nn.load_mnist import load_mnist_datasets\n",
    "from nn.utils import to_categorical\n",
    "train_set, val_set, test_set = load_mnist_datasets('mnist.pkl.gz')\n",
    "train_y,val_y,test_y=to_categorical(train_set[1]),to_categorical(val_set[1]),to_categorical(test_set[1])"
   ]
  },
  {
   "cell_type": "code",
   "execution_count": 15,
   "metadata": {},
   "outputs": [
    {
     "name": "stdout",
     "output_type": "stream",
     "text": [
      "x.shape:(16, 784),y.shape:(16, 10)\n"
     ]
    }
   ],
   "source": [
    "# 随机选择训练样本\n",
    "train_num = train_set[0].shape[0]\n",
    "def next_batch(batch_size):\n",
    "    idx=np.random.choice(train_num,batch_size)\n",
    "    return train_set[0][idx],train_y[idx]\n",
    "\n",
    "x,y= next_batch(16)\n",
    "print(\"x.shape:{},y.shape:{}\".format(x.shape,y.shape))"
   ]
  },
  {
   "cell_type": "code",
   "execution_count": 22,
   "metadata": {
    "scrolled": true
   },
   "outputs": [
    {
     "data": {
      "image/png": "[encoded data removed]",
      "text/plain": [
       "<Figure size 640x480 with 1 Axes>"
      ]
     },
     "metadata": {},
     "output_type": "display_data"
    }
   ],
   "source": [
    "# 可视化\n",
    "import matplotlib.pyplot as plt\n",
    "digit=train_set[0][6]\n",
    "plt.imshow(np.reshape(digit,(28,28)))\n",
    "plt.show()"
   ]
  },
  {
   "cell_type": "markdown",
   "metadata": {},
   "source": [
    "## 三、训练"
   ]
  },
  {
   "cell_type": "code",
   "execution_count": 17,
   "metadata": {
    "scrolled": true
   },
   "outputs": [
    {
     "name": "stdout",
     "output_type": "stream",
     "text": [
      "\n",
      " epoch:0 step:0 ; loss:2.3025857469602062\n",
      " train_acc:0.125;  val_acc:0.0639\n",
      "\n",
      " epoch:0 step:500 ; loss:2.2813018475059845\n",
      " train_acc:0.1875;  val_acc:0.1064\n",
      "\n",
      " epoch:0 step:1000 ; loss:2.2882977610395105\n",
      " train_acc:0.1875;  val_acc:0.1064\n",
      "\n",
      " epoch:0 step:1500 ; loss:2.3211416234448814\n",
      " train_acc:0.0625;  val_acc:0.1064\n",
      "\n",
      " epoch:1 step:0 ; loss:2.274048256878221\n",
      " train_acc:0.1875;  val_acc:0.1064\n",
      "\n",
      " epoch:1 step:500 ; loss:1.6534230653118813\n",
      " train_acc:0.46875;  val_acc:0.2997\n",
      "\n",
      " epoch:1 step:1000 ; loss:0.5060514874934432\n",
      " train_acc:0.875;  val_acc:0.7988\n",
      "\n",
      " epoch:1 step:1500 ; loss:0.3021776463312621\n",
      " train_acc:1.0;  val_acc:0.8565\n",
      "\n",
      " epoch:2 step:0 ; loss:0.456557697588161\n",
      " train_acc:0.96875;  val_acc:0.8769\n",
      "\n",
      " epoch:2 step:500 ; loss:0.5488682984539224\n",
      " train_acc:0.96875;  val_acc:0.9112\n",
      "\n",
      " epoch:2 step:1000 ; loss:0.24207094651425803\n",
      " train_acc:1.0;  val_acc:0.9447\n",
      "\n",
      " epoch:2 step:1500 ; loss:0.11873981836124708\n",
      " train_acc:1.0;  val_acc:0.9454\n",
      "\n",
      " final result test_acc:0.9439;  val_acc:0.9499\n"
     ]
    }
   ],
   "source": [
    "# 初始化变量\n",
    "batch_size=32\n",
    "epoch = 3\n",
    "steps = train_num // batch_size\n",
    "lr = 0.1\n",
    "\n",
    "for e in range(epoch):\n",
    "    for s in range(steps):\n",
    "        X,y=next_batch(batch_size)\n",
    "        \n",
    "        # 前向过程\n",
    "        forward(X)\n",
    "        loss=backward(X,y)\n",
    "        \n",
    "        # 更新梯度\n",
    "        for k in [\"W1\",\"b1\",\"W2\",\"b2\",\"W3\",\"b3\"]:\n",
    "            weights[k]-=lr*gradients[k]\n",
    "        \n",
    "        if s % 500 ==0:\n",
    "            print(\"\\n epoch:{} step:{} ; loss:{}\".format(e,s,loss))\n",
    "            print(\" train_acc:{};  val_acc:{}\".format(get_accuracy(X,y),get_accuracy(val_set[0],val_y)))\n",
    "\n",
    "            \n",
    "print(\"\\n final result test_acc:{};  val_acc:{}\".\n",
    "      format(get_accuracy(test_set[0],test_y),get_accuracy(val_set[0],val_y)))"
   ]
  },
  {
   "cell_type": "code",
   "execution_count": 25,
   "metadata": {},
   "outputs": [
    {
     "data": {
      "image/png": "[encoded data removed]",
      "text/plain": [
       "<Figure size 640x480 with 1 Axes>"
      ]
     },
     "metadata": {},
     "output_type": "display_data"
    },
    {
     "name": "stdout",
     "output_type": "stream",
     "text": [
      "y_true:9,y_predict:9\n"
     ]
    }
   ],
   "source": [
    "# 查看预测结果\n",
    "x,y=test_set[0][7],test_y[7]\n",
    "plt.imshow(np.reshape(x,(28,28)))\n",
    "plt.show()\n",
    "\n",
    "y_predict = np.argmax(forward([x])[0])\n",
    "\n",
    "print(\"y_true:{},y_predict:{}\".format(np.argmax(y),y_predict))\n",
    "\n"
   ]
  },
  {
   "cell_type": "code",
   "execution_count": null,
   "metadata": {},
   "outputs": [],
   "source": []
  }
 ],
 "metadata": {
  "kernelspec": {
   "display_name": "jupyter_venv",
   "language": "python",
   "name": "jupyter_venv"
  },
  "language_info": {
   "codemirror_mode": {
    "name": "ipython",
    "version": 3
   },
   "file_extension": ".py",
   "mimetype": "text/x-python",
   "name": "python",
   "nbconvert_exporter": "python",
   "pygments_lexer": "ipython3",
   "version": "3.10.12"
  }
 },
 "nbformat": 4,
 "nbformat_minor": 4
}
