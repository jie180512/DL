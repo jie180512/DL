{
 "cells": [
  {
   "cell_type": "markdown",
   "metadata": {},
   "source": [
    "## 一、定义前向、后向传播\n",
    "\n",
    "本文将用numpy实现cnn, 并测试mnist手写数字识别\n",
    "\n",
    "网络结构如下,包括1个卷积层,1个最大池化层，1个打平层2个全连接层：\n",
    "\n",
    "input(1,28\\*28)=> conv(1,3,3) => relu => max pooling => flatten => fc(64) => relu => fc(10)\n",
    "\n",
    "这里定义卷积层只有一个输出通道,全连接层的神经元也只有64个神经元"
   ]
  },
  {
   "cell_type": "code",
   "execution_count": 1,
   "metadata": {},
   "outputs": [],
   "source": [
    "# 定义权重、神经元、梯度\n",
    "import numpy as np\n",
    "weights = {}\n",
    "weights_scale = 1e-2\n",
    "filters = 1\n",
    "fc_units=64\n",
    "weights[\"K1\"] = weights_scale * np.random.randn(1, filters, 3, 3).astype(np.float64)\n",
    "weights[\"b1\"] = np.zeros(filters).astype(np.float64)\n",
    "weights[\"W2\"] = weights_scale * np.random.randn(filters * 13 * 13, fc_units).astype(np.float64)\n",
    "weights[\"b2\"] = np.zeros(fc_units).astype(np.float64)\n",
    "weights[\"W3\"] = weights_scale * np.random.randn(fc_units, 10).astype(np.float64)\n",
    "weights[\"b3\"] = np.zeros(10).astype(np.float64)\n",
    "\n",
    "# 初始化神经元和梯度\n",
    "nuerons={}\n",
    "gradients={}"
   ]
  },
  {
   "cell_type": "code",
   "execution_count": 2,
   "metadata": {},
   "outputs": [],
   "source": [
    "# 定义前向传播和反向传播\n",
    "from nn.layers import conv_forward,conv_backward,fc_forward,fc_backward\n",
    "from nn.layers import max_pooling_forward,max_pooling_backward\n",
    "from nn.layers import flatten_forward,flatten_backward\n",
    "from nn.activations import relu_forward,relu_backward\n",
    "from nn.losses import cross_entropy_loss\n",
    "\n",
    "\n",
    "\n",
    "# 定义前向传播\n",
    "def forward(X):\n",
    "    nuerons[\"conv1\"]=conv_forward(X.astype(np.float64),weights[\"K1\"],weights[\"b1\"])\n",
    "    nuerons[\"conv1_relu\"]=relu_forward(nuerons[\"conv1\"])\n",
    "    nuerons[\"maxp1\"]=max_pooling_forward(nuerons[\"conv1_relu\"].astype(np.float64),pooling=(2,2))\n",
    "\n",
    "    nuerons[\"flatten\"]=flatten_forward(nuerons[\"maxp1\"])\n",
    "    \n",
    "    nuerons[\"fc2\"]=fc_forward(nuerons[\"flatten\"],weights[\"W2\"],weights[\"b2\"])\n",
    "    nuerons[\"fc2_relu\"]=relu_forward(nuerons[\"fc2\"])\n",
    "    \n",
    "    nuerons[\"y\"]=fc_forward(nuerons[\"fc2_relu\"],weights[\"W3\"],weights[\"b3\"])\n",
    "\n",
    "    return nuerons[\"y\"]\n",
    "\n",
    "# 定义反向传播\n",
    "def backward(X,y_true):\n",
    "    loss,dy=cross_entropy_loss(nuerons[\"y\"],y_true)\n",
    "    gradients[\"W3\"],gradients[\"b3\"],gradients[\"fc2_relu\"]=fc_backward(dy,weights[\"W3\"],nuerons[\"fc2_relu\"])\n",
    "    gradients[\"fc2\"]=relu_backward(gradients[\"fc2_relu\"],nuerons[\"fc2\"])\n",
    "    \n",
    "    gradients[\"W2\"],gradients[\"b2\"],gradients[\"flatten\"]=fc_backward(gradients[\"fc2\"],weights[\"W2\"],nuerons[\"flatten\"])\n",
    "    \n",
    "    gradients[\"maxp1\"]=flatten_backward(gradients[\"flatten\"],nuerons[\"maxp1\"])\n",
    "       \n",
    "    gradients[\"conv1_relu\"]=max_pooling_backward(gradients[\"maxp1\"].astype(np.float64),nuerons[\"conv1_relu\"].astype(np.float64),pooling=(2,2))\n",
    "    gradients[\"conv1\"]=relu_backward(gradients[\"conv1_relu\"],nuerons[\"conv1\"])\n",
    "    gradients[\"K1\"],gradients[\"b1\"],_=conv_backward(gradients[\"conv1\"],weights[\"K1\"],X)\n",
    "    return loss"
   ]
  },
  {
   "cell_type": "code",
   "execution_count": 3,
   "metadata": {},
   "outputs": [],
   "source": [
    "# 获取精度\n",
    "def get_accuracy(X,y_true):\n",
    "    y_predict=forward(X)\n",
    "    return np.mean(np.equal(np.argmax(y_predict,axis=-1),\n",
    "                            np.argmax(y_true,axis=-1)))"
   ]
  },
  {
   "cell_type": "markdown",
   "metadata": {},
   "source": [
    "## 二、加载数据\n",
    "\n",
    "mnist.pkl.gz数据源： http://deeplearning.net/data/mnist/mnist.pkl.gz   "
   ]
  },
  {
   "cell_type": "code",
   "execution_count": 4,
   "metadata": {},
   "outputs": [],
   "source": [
    "from nn.load_mnist import load_mnist_datasets\n",
    "from nn.utils import to_categorical\n",
    "train_set, val_set, test_set = load_mnist_datasets('mnist.pkl.gz')\n",
    "train_x,val_x,test_x=np.reshape(train_set[0],(-1,1,28,28)),np.reshape(val_set[0],(-1,1,28,28)),np.reshape(test_set[0],(-1,1,28,28))\n",
    "train_y,val_y,test_y=to_categorical(train_set[1]),to_categorical(val_set[1]),to_categorical(test_set[1])"
   ]
  },
  {
   "cell_type": "code",
   "execution_count": 5,
   "metadata": {
    "scrolled": true
   },
   "outputs": [
    {
     "name": "stdout",
     "output_type": "stream",
     "text": [
      "x.shape:(16, 1, 28, 28),y.shape:(16, 10)\n"
     ]
    }
   ],
   "source": [
    "# 随机选择训练样本\n",
    "train_num = train_x.shape[0]\n",
    "def next_batch(batch_size):\n",
    "    idx=np.random.choice(train_num,batch_size)\n",
    "    return train_x[idx],train_y[idx]\n",
    "\n",
    "x,y= next_batch(16)\n",
    "print(\"x.shape:{},y.shape:{}\".format(x.shape,y.shape))"
   ]
  },
  {
   "cell_type": "markdown",
   "metadata": {},
   "source": [
    "## 三、训练网络\n",
    "\n",
    "由于numpy卷积层层前向、后向过程较慢,这里只迭代2000步,mini-batch设置为2;实际只训练了4000个样本(也有不错的精度,增加迭代次数精度会继续提升;增加卷积层输出通道数，精度上限也会提升);总样本有5w个。"
   ]
  },
  {
   "cell_type": "code",
   "execution_count": 6,
   "metadata": {
    "scrolled": true
   },
   "outputs": [
    {
     "name": "stdout",
     "output_type": "stream",
     "text": [
      "steps:781\n",
      "\n",
      " step:0 ; loss:2.3025971573100588\n",
      " train_acc:0.203125;  val_acc:0.13\n",
      "\n",
      " step:100 ; loss:0.5512419257192653\n",
      " train_acc:0.875;  val_acc:0.855\n",
      "\n",
      " step:200 ; loss:0.4458688504511435\n",
      " train_acc:0.875;  val_acc:0.91\n",
      "\n",
      " step:300 ; loss:0.5388969777086285\n",
      " train_acc:0.875;  val_acc:0.87\n",
      "\n",
      " step:400 ; loss:0.326935376857651\n",
      " train_acc:0.90625;  val_acc:0.9\n",
      "\n",
      " step:500 ; loss:0.26714707656863945\n",
      " train_acc:0.9375;  val_acc:0.915\n",
      "\n",
      " step:600 ; loss:0.5283464639246596\n",
      " train_acc:0.828125;  val_acc:0.935\n",
      "\n",
      " step:700 ; loss:0.3310820077440111\n",
      " train_acc:0.890625;  val_acc:0.93\n",
      "\n",
      " step:0 ; loss:0.3251559602589708\n",
      " train_acc:0.90625;  val_acc:0.92\n",
      "\n",
      " step:100 ; loss:0.12213320794258734\n",
      " train_acc:0.984375;  val_acc:0.89\n",
      "\n",
      " step:200 ; loss:0.5962839312721766\n",
      " train_acc:0.828125;  val_acc:0.935\n",
      "\n",
      " step:300 ; loss:0.4062564327630363\n",
      " train_acc:0.875;  val_acc:0.89\n",
      "\n",
      " step:400 ; loss:0.3500221707879712\n",
      " train_acc:0.9375;  val_acc:0.96\n",
      "\n",
      " step:500 ; loss:0.23500598913170911\n",
      " train_acc:0.921875;  val_acc:0.895\n",
      "\n",
      " step:600 ; loss:0.31902897467631075\n",
      " train_acc:0.90625;  val_acc:0.95\n",
      "\n",
      " step:700 ; loss:0.30998327001507703\n",
      " train_acc:0.875;  val_acc:0.895\n",
      "\n",
      " final result test_acc:0.9177;  val_acc:0.9243\n"
     ]
    }
   ],
   "source": [
    "\n",
    "from nn.optimizers import AdaGrad\n",
    "# 初始化变量\n",
    "epochs = 2\n",
    "batch_size=64\n",
    "steps = train_num // batch_size\n",
    "print(\"steps:{}\".format(steps))\n",
    "\n",
    "# 更新梯度\n",
    "adam=AdaGrad(weights,lr=0.01)\n",
    "\n",
    "for e in range(epochs):\n",
    "    for s in range(steps):\n",
    "        X,y=next_batch(batch_size)\n",
    "\n",
    "        # 前向过程\n",
    "        forward(X)\n",
    "        # 反向过程\n",
    "        loss=backward(X,y)\n",
    "\n",
    "\n",
    "        adam.iterate(weights,gradients)\n",
    "\n",
    "        if s % 100 ==0:\n",
    "            print(\"\\n step:{} ; loss:{}\".format(s,loss))\n",
    "            idx=np.random.choice(len(val_x),200)\n",
    "            print(\" train_acc:{};  val_acc:{}\".format(get_accuracy(X,y),get_accuracy(val_x[idx],val_y[idx])))\n",
    "\n",
    "print(\"\\n final result test_acc:{};  val_acc:{}\".\n",
    "      format(get_accuracy(test_x,test_y),get_accuracy(val_x,val_y)))"
   ]
  },
  {
   "cell_type": "code",
   "execution_count": 7,
   "metadata": {},
   "outputs": [
    {
     "data": {
      "image/png": "[encoded data removed]",
      "text/plain": [
       "<Figure size 300x300 with 1 Axes>"
      ]
     },
     "metadata": {},
     "output_type": "display_data"
    },
    {
     "name": "stdout",
     "output_type": "stream",
     "text": [
      "y_true:9,y_predict:9\n"
     ]
    },
    {
     "data": {
      "image/png": "[encoded data removed]",
      "text/plain": [
       "<Figure size 300x300 with 1 Axes>"
      ]
     },
     "metadata": {},
     "output_type": "display_data"
    },
    {
     "name": "stdout",
     "output_type": "stream",
     "text": [
      "y_true:3,y_predict:3\n"
     ]
    },
    {
     "data": {
      "image/png": "[encoded data removed]",
      "text/plain": [
       "<Figure size 300x300 with 1 Axes>"
      ]
     },
     "metadata": {},
     "output_type": "display_data"
    },
    {
     "name": "stdout",
     "output_type": "stream",
     "text": [
      "y_true:0,y_predict:0\n"
     ]
    }
   ],
   "source": [
    "# 随机查看预测结果\n",
    "import matplotlib.pyplot as plt\n",
    "\n",
    "idx=np.random.choice(test_x.shape[0],3)\n",
    "x,y=test_x[idx],test_y[idx]\n",
    "y_predict = forward(x)\n",
    "for i in range(3):\n",
    "    plt.figure(figsize=(3,3))\n",
    "    plt.imshow(np.reshape(x[i],(28,28)))\n",
    "    plt.show()\n",
    "    print(\"y_true:{},y_predict:{}\".format(np.argmax(y[i]),np.argmax(y_predict[i])))"
   ]
  },
  {
   "cell_type": "code",
   "execution_count": null,
   "metadata": {},
   "outputs": [],
   "source": []
  },
  {
   "cell_type": "code",
   "execution_count": null,
   "metadata": {},
   "outputs": [],
   "source": []
  }
 ],
 "metadata": {
  "kernelspec": {
   "display_name": "jupyter_venv",
   "language": "python",
   "name": "jupyter_venv"
  },
  "language_info": {
   "codemirror_mode": {
    "name": "ipython",
    "version": 3
   },
   "file_extension": ".py",
   "mimetype": "text/x-python",
   "name": "python",
   "nbconvert_exporter": "python",
   "pygments_lexer": "ipython3",
   "version": "3.10.12"
  }
 },
 "nbformat": 4,
 "nbformat_minor": 4
}
